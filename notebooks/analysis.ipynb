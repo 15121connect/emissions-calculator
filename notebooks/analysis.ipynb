{
  "nbformat": 4,
  "nbformat_minor": 0,
  "metadata": {
    "kernelspec": {
      "name": "python3",
      "display_name": "Python 3"
    },
    "language_info": {
      "name": "python"
    }
  },
  "cells": [
    {
      "cell_type": "markdown",
      "metadata": {},
      "source": [
        "# Annual Emissions Analysis\n",
        "\n",
        "This notebook demonstrates how to use the emissions calculator to analyze operational emissions data."
      ]
    },
    {
      "cell_type": "code",
      "execution_count": null,
      "metadata": {},
      "outputs": [],
      "source": [
        "import sys\n",
        "sys.path.insert(0, '..')\n",
        "\n",
        "from src.data_loader import load_data_from_directory\n",
        "from src.emissions_calculator import calculate_annual_emissions\n",
        "import pandas as pd"
      ]
    },
    {
      "cell_type": "markdown",
      "metadata": {},
      "source": [
        "## 1. Load Data"
      ]
    },
    {
      "cell_type": "code",
      "execution_count": null,
      "metadata": {},
      "outputs": [],
      "source": [
        "# Load all CSV files from the data directory\n",
        "dataframes = load_data_from_directory('../data/raw')\n",
        "\n",
        "print(f\"\\nLoaded {len(dataframes)} dataframes:\")\n",
        "for name in sorted(dataframes.keys()):\n",
        "    print(f\"  - {name}: {dataframes[name].shape}\")"
      ]
    },
    {
      "cell_type": "markdown",
      "metadata": {},
      "source": [
        "## 2. Explore Operation Data"
      ]
    },
    {
      "cell_type": "code",
      "execution_count": null,
      "metadata": {},
      "outputs": [],
      "source": [
        "# View operation data\n",
        "operation_data = dataframes['operation_data_test_2']\n",
        "print(\"Operation Data Shape:\", operation_data.shape)\n",
        "print(\"\\nColumns:\")\n",
        "print(operation_data.columns.tolist())\n",
        "print(\"\\nFirst few rows:\")\n",
        "operation_data.head()"
      ]
    },
    {
      "cell_type": "code",
      "execution_count": null,
      "metadata": {},
      "outputs": [],
      "source": [
        "# Check entity types\n",
        "print(\"Entity types:\")\n",
        "print(operation_data['entity'].value_counts())"
      ]
    },
    {
      "cell_type": "markdown",
      "metadata": {},
      "source": [
        "## 3. Calculate Annual Emissions"
      ]
    },
    {
      "cell_type": "code",
      "execution_count": null,
      "metadata": {},
      "outputs": [],
      "source": [
        "# Calculate emissions\n",
        "annual_emissions = calculate_annual_emissions(\n",
        "    dataframes['operation_data_test_2'],\n",
        "    dataframes['fuel_data'],\n",
        "    dataframes['refrigerant_gwp'],\n",
        "    dataframes['refrigerator_data'],\n",
        "    dataframes['vehicle_interventions'],\n",
        "    dataframes['vehicle_interventions_tru'],\n",
        "    dataframes['farm_emissions']\n",
        ")\n",
        "\n",
        "print(\"\\nEmissions calculated!\")\n",
        "annual_emissions.head()"
      ]
    },
    {
      "cell_type": "markdown",
      "metadata": {},
      "source": [
        "## 4. Analyze Results"
      ]
    },
    {
      "cell_type": "code",
      "execution_count": null,
      "metadata": {},
      "outputs": [],
      "source": [
        "# Summary statistics\n",
        "print(\"Summary Statistics:\")\n",
        "print(annual_emissions.describe())"
      ]
    },
    {
      "cell_type": "code",
      "execution_count": null,
      "metadata": {},
      "outputs": [],
      "source": [
        "# Total emissions by category\n",
        "emission_categories = [\n",
        "    'fuel_emissions', 'vehicle_emissions', 'refrigerant_emissions',\n",
        "    'livestock_emissions', 'fertilizer_emissions', 'waste_emissions',\n",
        "    'tru_emissions'\n",
        "]\n",
        "\n",
        "category_totals = annual_emissions[emission_categories].sum()\n",
        "print(\"\\nTotal Emissions by Category (kg CO2e):\")\n",
        "for category, total in category_totals.items():\n",
        "    print(f\"  {category}: {total:,.2f}\")\n",
        "print(f\"\\nTotal: {annual_emissions['total_emissions'].sum():,.2f}\")"
      ]
    },
    {
      "cell_type": "code",
      "execution_count": null,
      "metadata": {},
      "outputs": [],
      "source": [
        "# Visualize emissions breakdown\n",
        "import matplotlib.pyplot as plt\n",
        "\n",
        "# Pie chart of emission sources\n",
        "non_zero_categories = category_totals[category_totals > 0]\n",
        "\n",
        "plt.figure(figsize=(10, 6))\n",
        "plt.pie(non_zero_categories, labels=non_zero_categories.index, autopct='%1.1f%%')\n",
        "plt.title('Emissions by Source Category')\n",
        "plt.show()"
      ]
    },
    {
      "cell_type": "markdown",
      "metadata": {},
      "source": [
        "## 5. Save Results"
      ]
    },
    {
      "cell_type": "code",
      "execution_count": null,
      "metadata": {},
      "outputs": [],
      "source": [
        "# Save to CSV\n",
        "output_path = '../data/outputs/annual_emissions.csv'\n",
        "annual_emissions.to_csv(output_path, index=False)\n",
        "print(f\"Results saved to: {output_path}\")"
      ]
    }
  ]
}
